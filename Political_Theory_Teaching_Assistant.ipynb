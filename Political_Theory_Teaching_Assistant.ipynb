{
  "nbformat": 4,
  "nbformat_minor": 0,
  "metadata": {
    "colab": {
      "provenance": [],
      "authorship_tag": "ABX9TyMw2XwxWnG4aBnv60+ZBqFx",
      "include_colab_link": true
    },
    "kernelspec": {
      "name": "python3",
      "display_name": "Python 3"
    },
    "language_info": {
      "name": "python"
    }
  },
  "cells": [
    {
      "cell_type": "markdown",
      "metadata": {
        "id": "view-in-github",
        "colab_type": "text"
      },
      "source": [
        "<a href=\"https://colab.research.google.com/github/maylovesart/maylovesart/blob/main/Political_Theory_Teaching_Assistant.ipynb\" target=\"_parent\"><img src=\"https://colab.research.google.com/assets/colab-badge.svg\" alt=\"Open In Colab\"/></a>"
      ]
    },
    {
      "cell_type": "markdown",
      "source": [
        "# Import necessary libraries"
      ],
      "metadata": {
        "id": "5CdzG4-Qf7xH"
      }
    },
    {
      "cell_type": "code",
      "source": [
        "import pandas as pd\n",
        "import sqlite3\n",
        "from sklearn.feature_extraction.text import TfidfVectorizer\n",
        "from sklearn.metrics.pairwise import cosine_similarity\n",
        "import nltk\n",
        "from nltk.tokenize import sent_tokenize\n",
        "nltk.download('punkt')"
      ],
      "metadata": {
        "colab": {
          "base_uri": "https://localhost:8080/"
        },
        "id": "BgiIAAY8f4GT",
        "outputId": "79bbc5a1-1a28-41b1-de8b-eaf71c89f795"
      },
      "execution_count": 25,
      "outputs": [
        {
          "output_type": "stream",
          "name": "stderr",
          "text": [
            "[nltk_data] Downloading package punkt to /root/nltk_data...\n",
            "[nltk_data]   Package punkt is already up-to-date!\n"
          ]
        },
        {
          "output_type": "execute_result",
          "data": {
            "text/plain": [
              "True"
            ]
          },
          "metadata": {},
          "execution_count": 25
        }
      ]
    },
    {
      "cell_type": "markdown",
      "source": [
        "# 1. Data Preparation"
      ],
      "metadata": {
        "id": "XMRYcVROhSyC"
      }
    },
    {
      "cell_type": "code",
      "source": [
        "print(\"1. Data Preparation\")\n",
        "df = pd.DataFrame({\n",
        "    'topic': ['Social Contract Theory', 'Marxism', 'Liberalism', 'Feminism', 'Postcolonialism'],\n",
        "    'subtopics': [\n",
        "        'State of Nature;Social Contract;Legitimate Government',\n",
        "        'Historical Materialism;Class Struggle;Dialectical Materialism',\n",
        "        'Individual Rights;Free Market;Limited Government',\n",
        "        'Gender Equality;Patriarchy;Intersectionality',\n",
        "        'Cultural Hegemony;Subaltern;Orientalism'\n",
        "    ],\n",
        "    'content': [\n",
        "        \"Social contract theory examines the relationship between individuals and the state...\",\n",
        "        \"Marxism is a socioeconomic analysis that critiques capitalism and class relations...\",\n",
        "        \"Liberalism emphasizes individual rights, liberty, and equality before the law...\",\n",
        "        \"Feminism advocates for women's rights and equality across various spheres...\",\n",
        "        \"Postcolonialism studies the cultural legacy of colonialism and imperialism...\"\n",
        "    ]\n",
        "})\n",
        "print(df)\n",
        "print(\"\\n\")\n"
      ],
      "metadata": {
        "colab": {
          "base_uri": "https://localhost:8080/"
        },
        "id": "w-W7QralhO8F",
        "outputId": "377dfb37-c525-46e2-a2c9-7835b579c332"
      },
      "execution_count": 26,
      "outputs": [
        {
          "output_type": "stream",
          "name": "stdout",
          "text": [
            "1. Data Preparation\n",
            "                    topic                                          subtopics  \\\n",
            "0  Social Contract Theory  State of Nature;Social Contract;Legitimate Gov...   \n",
            "1                 Marxism  Historical Materialism;Class Struggle;Dialecti...   \n",
            "2              Liberalism   Individual Rights;Free Market;Limited Government   \n",
            "3                Feminism       Gender Equality;Patriarchy;Intersectionality   \n",
            "4         Postcolonialism            Cultural Hegemony;Subaltern;Orientalism   \n",
            "\n",
            "                                             content  \n",
            "0  Social contract theory examines the relationsh...  \n",
            "1  Marxism is a socioeconomic analysis that criti...  \n",
            "2  Liberalism emphasizes individual rights, liber...  \n",
            "3  Feminism advocates for women's rights and equa...  \n",
            "4  Postcolonialism studies the cultural legacy of...  \n",
            "\n",
            "\n"
          ]
        }
      ]
    },
    {
      "cell_type": "markdown",
      "source": [
        "# 2. Database Creation"
      ],
      "metadata": {
        "id": "ISb5VjDhgEdJ"
      }
    },
    {
      "cell_type": "code",
      "execution_count": 27,
      "metadata": {
        "colab": {
          "base_uri": "https://localhost:8080/"
        },
        "id": "PA67yBhDf2EJ",
        "outputId": "f5746de9-84ab-466a-da01-658efdf35ee6"
      },
      "outputs": [
        {
          "output_type": "stream",
          "name": "stdout",
          "text": [
            "2. Database Creation\n",
            "Database created successfully\n",
            "\n",
            "\n"
          ]
        }
      ],
      "source": [
        "print(\"2. Database Creation\")\n",
        "conn = sqlite3.connect('political_theory_notes.db')\n",
        "df.to_sql('notes', conn, if_exists='replace', index=False)\n",
        "print(\"Database created successfully\")\n",
        "print(\"\\n\")"
      ]
    },
    {
      "cell_type": "markdown",
      "source": [
        "# 3. Basic Search Function"
      ],
      "metadata": {
        "id": "llRM6WX0gcVz"
      }
    },
    {
      "cell_type": "code",
      "source": [
        "print(\"3. Basic Search Function\")\n",
        "def search_notes(query):\n",
        "    cursor = conn.cursor()\n",
        "    cursor.execute(\"SELECT * FROM notes WHERE content LIKE ?\", ('%' + query + '%',))\n",
        "    return cursor.fetchall()\n",
        "\n",
        "print(\"Search results for 'social':\")\n",
        "print(search_notes('social'))\n",
        "print(\"\\n\")"
      ],
      "metadata": {
        "colab": {
          "base_uri": "https://localhost:8080/"
        },
        "id": "EvXBVoOLgRGL",
        "outputId": "7e5e0a05-80ba-48e0-aea0-62fa888d4214"
      },
      "execution_count": 28,
      "outputs": [
        {
          "output_type": "stream",
          "name": "stdout",
          "text": [
            "3. Basic Search Function\n",
            "Search results for 'social':\n",
            "[('Social Contract Theory', 'State of Nature;Social Contract;Legitimate Government', 'Social contract theory examines the relationship between individuals and the state...')]\n",
            "\n",
            "\n"
          ]
        }
      ]
    },
    {
      "cell_type": "markdown",
      "source": [
        "# 4. Advanced Search with TF-IDF"
      ],
      "metadata": {
        "id": "oQkBWjxZggxS"
      }
    },
    {
      "cell_type": "code",
      "source": [
        "print(\"4. Advanced Search with TF-IDF\")\n",
        "vectorizer = TfidfVectorizer()\n",
        "tfidf_matrix = vectorizer.fit_transform(df['content'])\n",
        "\n",
        "def advanced_search(query):\n",
        "    query_vec = vectorizer.transform([query])\n",
        "    similarity = cosine_similarity(query_vec, tfidf_matrix).flatten()\n",
        "    related_docs_indices = similarity.argsort()[:-len(df)-1:-1]\n",
        "    return df.iloc[related_docs_indices]\n",
        "\n",
        "print(\"Advanced search results for 'equality':\")\n",
        "print(advanced_search('equality'))\n",
        "print(\"\\n\")"
      ],
      "metadata": {
        "colab": {
          "base_uri": "https://localhost:8080/"
        },
        "id": "r-gkHLGbgUI_",
        "outputId": "a17b9c6c-ac78-4e2b-83ba-fff590039115"
      },
      "execution_count": 29,
      "outputs": [
        {
          "output_type": "stream",
          "name": "stdout",
          "text": [
            "4. Advanced Search with TF-IDF\n",
            "Advanced search results for 'equality':\n",
            "                    topic                                          subtopics  \\\n",
            "2              Liberalism   Individual Rights;Free Market;Limited Government   \n",
            "3                Feminism       Gender Equality;Patriarchy;Intersectionality   \n",
            "4         Postcolonialism            Cultural Hegemony;Subaltern;Orientalism   \n",
            "1                 Marxism  Historical Materialism;Class Struggle;Dialecti...   \n",
            "0  Social Contract Theory  State of Nature;Social Contract;Legitimate Gov...   \n",
            "\n",
            "                                             content  \n",
            "2  Liberalism emphasizes individual rights, liber...  \n",
            "3  Feminism advocates for women's rights and equa...  \n",
            "4  Postcolonialism studies the cultural legacy of...  \n",
            "1  Marxism is a socioeconomic analysis that criti...  \n",
            "0  Social contract theory examines the relationsh...  \n",
            "\n",
            "\n"
          ]
        }
      ]
    },
    {
      "cell_type": "markdown",
      "source": [
        "# 5. Question Generation"
      ],
      "metadata": {
        "id": "ZKVzJpoNglTg"
      }
    },
    {
      "cell_type": "code",
      "source": [
        "print(\"5. Complex Question Generation\")\n",
        "def generate_complex_question():\n",
        "    # Select two random topics\n",
        "    topics = df['topic'].tolist()\n",
        "    topic1, topic2 = random.sample(topics, 2)\n",
        "\n",
        "    # Get subtopics for each topic\n",
        "    subtopics1 = df[df['topic'] == topic1]['subtopics'].iloc[0].split(';')\n",
        "    subtopics2 = df[df['topic'] == topic2]['subtopics'].iloc[0].split(';')\n",
        "\n",
        "    # Select a random subtopic from each\n",
        "    subtopic1 = random.choice(subtopics1)\n",
        "    subtopic2 = random.choice(subtopics2)\n",
        "\n",
        "    # Generate question\n",
        "    question = f\"Compare the concept of {subtopic1} in {topic1} with {subtopic2} in {topic2}. How do these ideas reflect the core principles of each theory?\"\n",
        "\n",
        "    return question\n",
        "\n",
        "# Generate multiple complex questions\n",
        "print(\"Generated complex comparison questions:\")\n",
        "for _ in range(3):\n",
        "    print(generate_complex_question())\n",
        "    print()\n",
        "\n",
        "# Close the database connection\n",
        "conn.close()"
      ],
      "metadata": {
        "colab": {
          "base_uri": "https://localhost:8080/"
        },
        "id": "RfuBs8w8gX4K",
        "outputId": "a27e0b57-26d0-4e8f-e868-fec00e377e40"
      },
      "execution_count": 30,
      "outputs": [
        {
          "output_type": "stream",
          "name": "stdout",
          "text": [
            "5. Complex Question Generation\n",
            "Generated complex comparison questions:\n",
            "Compare the concept of Intersectionality in Feminism with Subaltern in Postcolonialism. How do these ideas reflect the core principles of each theory?\n",
            "\n",
            "Compare the concept of Patriarchy in Feminism with Historical Materialism in Marxism. How do these ideas reflect the core principles of each theory?\n",
            "\n",
            "Compare the concept of Free Market in Liberalism with Patriarchy in Feminism. How do these ideas reflect the core principles of each theory?\n",
            "\n"
          ]
        }
      ]
    }
  ]
}